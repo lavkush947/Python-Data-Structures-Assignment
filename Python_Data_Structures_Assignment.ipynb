{
  "nbformat": 4,
  "nbformat_minor": 0,
  "metadata": {
    "colab": {
      "provenance": []
    },
    "kernelspec": {
      "name": "python3",
      "display_name": "Python 3"
    },
    "language_info": {
      "name": "python"
    }
  },
  "cells": [
    {
      "cell_type": "markdown",
      "source": [
        "**- Theory Questions:**\n",
        "\n",
        "Ques 1.What are data structures, and why are they important?\n",
        "\n",
        "Ans.\n",
        "- Python data structure are the way of organizing data with a proper manner and sequence.\n",
        "    - the most commonly used data structures in python are:-\n",
        "           - lists\n",
        "           - tuples\n",
        "           - sets\n",
        "           - dictionary\n",
        "           - array\n",
        "    - Python data structures are very important because they gives us capability to store and manage real world data.\n",
        "\n",
        "\n",
        "Ques 2.Explain the difference between mutable and immutable data types with examples.\n",
        "\n",
        "Ans.\n",
        "- mutable: mutable data types are those which can be changed or their items can be replaced.\n",
        "          Examples of mutable data types: lists, dict, sets etc.\n",
        "\n",
        "- immutable: immutable data types are those which can't be changed or their items can't be replaced.\n",
        "          Examples of immutable data types: str, int, float, tuples etc.\n",
        "\n",
        "\n",
        "Ques 3.What are the main differences between lists and tuples in Python?\n",
        "\n",
        "Ans. lists are mutable and tuples are immutable\n",
        "\n",
        "\n",
        "ques 4.Describe how dictionaries store data.\n",
        "\n",
        "Ans. dictionaries stores data in the form of key:value pairs\n",
        "     - For Example: dict1 = {\"aman\":45, \"nancy\":89, \"manoj\":55} # here students marks are stored in the form of key:value pairs where\n",
        "       aman is the key and 45 is its value.\n",
        "\n",
        "Ques 5.Why might you use a set instead of a list in Python?\n",
        "\n",
        "Ans. because sometimes we need to store unique items among different types of same items.\n",
        "\n",
        "\n",
        "Ques 6.What is a string in Python, and how is it different from a list?\n",
        "\n",
        "Ans.\n",
        "\n",
        "    - strings are collection of characters quoted with single quote , double\n",
        "      quote or triple quote.\n",
        "    - string is a type of data type in python.\n",
        "    - strings are stored inside single quote , double quote or triple quote (''/\"\"/''') while lists are stored\n",
        "      inside square brackets []\n",
        "\n",
        "\n",
        "Ques 7.How do tuples ensure data integrity in Python?\n",
        "\n",
        "Ans. Tuples ensures data integrity by being immutable, which means once created, their values can’t be changed.\n",
        "\n",
        "\n",
        "Ques 8.What is a hash table, and how does it relate to dictionaries in Python?\n",
        "\n",
        "Ans.\n",
        "    \n",
        "    - hash table is a implementaion of dictionary.\n",
        "    - it also stores key:value pair like dictionary.\n",
        "    - its elements are accessed using hash function.\n",
        "\n",
        "\n",
        "Ques 9.Can lists contain different data types in Python?\n",
        "\n",
        "Ans. yes, it stores many different data types in python like- str, int, float, complex etc.\n",
        "\n",
        "\n",
        "Ques 10.Explain why strings are immutable in Python.\n",
        "\n",
        "Ans. strings are immutable because sometimes we want to store someones name , address etc and we don't want it to change the\n",
        "     information.\n",
        "\n",
        "\n",
        "Ques 11.What advantages do dictionaries offer over lists for certain tasks?\n",
        "\n",
        "Ans. - dictionaries stores items in key:value pairs which is more understanding and accesible to the user while list stores the\n",
        "       elements in a hierarical manner which is little bit stressful to find elements.\n",
        "\n",
        "\n",
        "Ques 12.Describe a scenario where using a tuple would be preferable over a list.\n",
        "\n",
        "Ans. suppose that we want to store employee id's and employee id can't be changed , in this case we use tuples because tuples are\n",
        "     immutable.we can't use list because lists are immutable.\n",
        "\n",
        "\n",
        "Ques 13.How do sets handle duplicate values in Python.\n",
        "\n",
        "Ans. Sets considered duplicate values only one time. means that if there is the same element many times in a set it prints the\n",
        "     element only one time.\n",
        "\n",
        "\n",
        "Ques 14.How does the “in” keyword work differently for lists and dictionaries?\n",
        "\n",
        "Ans. we can access any item of the list using \"in\" keyword by giving the item name of the list but in dictionary we have to specify\n",
        "     only the key of that value to access it.\n",
        "\n",
        "\n",
        "\n",
        "Ques 15.Can you modify the elements of a tuple? Explain why or why not.\n",
        "\n",
        "Ans. No, we can not modify the elements of the tuple because tuples are immutable(can't be changed) data type in python and they are\n",
        "     set to be un changed by the python language.\n",
        "\n",
        "\n",
        "Ques 16.What is a nested dictionary, and give an example of its use case?\n",
        "\n",
        "Ans. A dictionary inside a dictionary is known by nested dictionary\n",
        "     Use Case: suppose that we need to store a user's information and there are many section in that so we use specific dictionary\n",
        "               for specific section and store these dictionary into a one dictionary.\n",
        "\n",
        "\n",
        "\n",
        "\n",
        "Ques 17.Describe the time complexity of accessing elements in a dictionary.\n",
        "\n",
        "Ans. Accessing elements in a dictionary by key has average-case time complexity of O(1).\n",
        "\n",
        "\n",
        "Ques 18.In what situations are lists preferred over dictionaries.\n",
        "Ans.\n",
        "    \n",
        "    - The order of items matters (lists preserve insertion order).\n",
        "\n",
        "    - You need to store sequential data (e.g., [1, 2, 3, 4]).\n",
        "\n",
        "    - You want to iterate over items without needing a key.\n",
        "\n",
        "    - You don't need key-based access — just positions (indexes).\n",
        "\n",
        "\n",
        "Ques 19.Why are dictionaries considered unordered, and how does that affect data retrieval.\n",
        "\n",
        "Ans. Dictionaries were considered unordered because the order of items was not guaranteed. You could not rely on the insertion order\n",
        "     of keys.\n",
        "\n",
        "\n",
        "Ques 20.Explain the difference between a list and a dictionary in terms of data retrieval.\n",
        "\n",
        "Ans. A list retrieves data using integer indexes, where each element is  \n",
        "     accessed by its position (e.g., list[0]), while a dictionary\n",
        "     retrieves data using unique keys, where each value is accessed by its associated key (e.g., dict[\"name\"]).\n",
        "\n",
        "\n",
        "\n",
        "\n",
        "\n"
      ],
      "metadata": {
        "id": "vps4t53STu8k"
      }
    },
    {
      "cell_type": "markdown",
      "source": [
        "**- Practical Questions:**"
      ],
      "metadata": {
        "id": "fc4kns-WVuSe"
      }
    },
    {
      "cell_type": "code",
      "source": [
        "'''Ques 1.Write a code to create a string with your name and print it.'''\n",
        "'''Ans'''\n",
        "my_name = \"Lavkush\"\n",
        "print(my_name)"
      ],
      "metadata": {
        "colab": {
          "base_uri": "https://localhost:8080/"
        },
        "id": "O9iSOUUDUXY1",
        "outputId": "6cbdc6fc-7bd6-4f76-973a-ce8491a15ee1"
      },
      "execution_count": 3,
      "outputs": [
        {
          "output_type": "stream",
          "name": "stdout",
          "text": [
            "Lavkush\n"
          ]
        }
      ]
    },
    {
      "cell_type": "code",
      "source": [
        "'''Ques 2.Write a code to find the length of the string \"Hello World\".\n",
        "Ans'''\n",
        "string = \"Hello World\"\n",
        "print(\"The length of the string is:\", len(string) )"
      ],
      "metadata": {
        "colab": {
          "base_uri": "https://localhost:8080/"
        },
        "id": "IGJXekNiWVUY",
        "outputId": "df4a9507-1833-4fba-80d8-9f803d1d4be1"
      },
      "execution_count": 4,
      "outputs": [
        {
          "output_type": "stream",
          "name": "stdout",
          "text": [
            "The length of the string is: 11\n"
          ]
        }
      ]
    },
    {
      "cell_type": "code",
      "source": [
        "'''Ques 3.Write a code to slice the first 3 characters from the string \"Python Programming\".\n",
        "Ans.'''\n",
        "string = \"Python Programming\"\n",
        "print(\"The first three characters are: \",string[:3])"
      ],
      "metadata": {
        "colab": {
          "base_uri": "https://localhost:8080/"
        },
        "id": "DPk5a9rsWeC4",
        "outputId": "e527ff22-7e43-42d7-e7db-87786f7f7bc5"
      },
      "execution_count": 5,
      "outputs": [
        {
          "output_type": "stream",
          "name": "stdout",
          "text": [
            "The first three characters are:  Pyt\n"
          ]
        }
      ]
    },
    {
      "cell_type": "code",
      "source": [
        "'''Ques 4.Write a code to convert the string \"hello\" to uppercase.\n",
        "Ans.'''\n",
        "string = \"hello\"\n",
        "string.upper()"
      ],
      "metadata": {
        "colab": {
          "base_uri": "https://localhost:8080/",
          "height": 36
        },
        "id": "MmE82veLWpIL",
        "outputId": "7941c2e5-86ab-40af-c9dd-bb200031c68d"
      },
      "execution_count": 6,
      "outputs": [
        {
          "output_type": "execute_result",
          "data": {
            "text/plain": [
              "'HELLO'"
            ],
            "application/vnd.google.colaboratory.intrinsic+json": {
              "type": "string"
            }
          },
          "metadata": {},
          "execution_count": 6
        }
      ]
    },
    {
      "cell_type": "code",
      "source": [
        "'''Ques 5.Write a code to replace the word \"apple\" with \"orange\" in the string \"I like apple\".\n",
        "Ans.'''\n",
        "string = \"I like apple\"\n",
        "string.replace(\"apple\",\"orange\")"
      ],
      "metadata": {
        "colab": {
          "base_uri": "https://localhost:8080/",
          "height": 36
        },
        "id": "XGVlKjk3WzwQ",
        "outputId": "7ea02e76-e382-4587-eaa1-432c0dceea3e"
      },
      "execution_count": 7,
      "outputs": [
        {
          "output_type": "execute_result",
          "data": {
            "text/plain": [
              "'I like orange'"
            ],
            "application/vnd.google.colaboratory.intrinsic+json": {
              "type": "string"
            }
          },
          "metadata": {},
          "execution_count": 7
        }
      ]
    },
    {
      "cell_type": "code",
      "source": [
        "'''Ques 6.Write a code to create a list with numbers 1 to 5 and print it.\n",
        "Ans.'''\n",
        "numbers = [1, 2, 3, 4, 5]\n",
        "print(numbers)"
      ],
      "metadata": {
        "colab": {
          "base_uri": "https://localhost:8080/"
        },
        "id": "7mqpji9WW_Ag",
        "outputId": "b12823e9-2f04-4bd5-bfe0-fc0145980740"
      },
      "execution_count": 8,
      "outputs": [
        {
          "output_type": "stream",
          "name": "stdout",
          "text": [
            "[1, 2, 3, 4, 5]\n"
          ]
        }
      ]
    },
    {
      "cell_type": "code",
      "source": [
        "'''Ques 7.Write a code to append the number 10 to the list [1, 2, 3, 4].\n",
        "Ans.'''\n",
        "list = [1, 2, 3, 4,]\n",
        "list.append(10)\n",
        "print(list)"
      ],
      "metadata": {
        "colab": {
          "base_uri": "https://localhost:8080/"
        },
        "id": "TARYnlhDXLDO",
        "outputId": "a9f699f0-0588-42d0-dd6e-d8bde9291432"
      },
      "execution_count": 9,
      "outputs": [
        {
          "output_type": "stream",
          "name": "stdout",
          "text": [
            "[1, 2, 3, 4, 10]\n"
          ]
        }
      ]
    },
    {
      "cell_type": "code",
      "source": [
        "'''Ques 8.Write a code to remove the number 3 from the list [1, 2, 3, 4, 5].\n",
        "Ans.'''\n",
        "\n",
        "list = [1, 2, 3, 4, 5]\n",
        "list.remove(3)\n",
        "print(list)\n"
      ],
      "metadata": {
        "colab": {
          "base_uri": "https://localhost:8080/"
        },
        "id": "vjw5FqS-Xaxf",
        "outputId": "64a46353-0f77-4d5d-97b1-d66d51bce157"
      },
      "execution_count": 10,
      "outputs": [
        {
          "output_type": "stream",
          "name": "stdout",
          "text": [
            "[1, 2, 4, 5]\n"
          ]
        }
      ]
    },
    {
      "cell_type": "code",
      "source": [
        "'''Ques 9.Write a code to access the second element in the list ['a', 'b', 'c','d'].\n",
        "Ans.'''\n",
        "list = ['a', 'b', 'c', 'd']\n",
        "print(list[1])"
      ],
      "metadata": {
        "colab": {
          "base_uri": "https://localhost:8080/"
        },
        "id": "nZ6dT3ukXqhu",
        "outputId": "3f6aa24c-06b6-4f64-d689-3c03c8ef9aff"
      },
      "execution_count": 11,
      "outputs": [
        {
          "output_type": "stream",
          "name": "stdout",
          "text": [
            "b\n"
          ]
        }
      ]
    },
    {
      "cell_type": "code",
      "source": [
        "'''Ques 10.Write a code to reverse the list [10, 20, 30, 40, 50].\n",
        "Ans.'''\n",
        "list = [10, 20, 30, 40, 50]\n",
        "print(list[::-1])"
      ],
      "metadata": {
        "colab": {
          "base_uri": "https://localhost:8080/"
        },
        "id": "d-3IDoGmX6RF",
        "outputId": "1b81a13b-6564-420c-aad4-c6d76ebd32fc"
      },
      "execution_count": 12,
      "outputs": [
        {
          "output_type": "stream",
          "name": "stdout",
          "text": [
            "[50, 40, 30, 20, 10]\n"
          ]
        }
      ]
    },
    {
      "cell_type": "code",
      "source": [
        "'''Ques 11.Write a code to create a tuple with the elements 100, 200, 300 and print it.\n",
        "Ans.'''\n",
        "elements = (100, 200, 300)\n",
        "print(elements)\n",
        "type(elements)"
      ],
      "metadata": {
        "colab": {
          "base_uri": "https://localhost:8080/"
        },
        "id": "B31Eyj2_YCtR",
        "outputId": "47ce4047-ae7e-4a3c-db3b-11fc7f2472c5"
      },
      "execution_count": 13,
      "outputs": [
        {
          "output_type": "stream",
          "name": "stdout",
          "text": [
            "(100, 200, 300)\n"
          ]
        },
        {
          "output_type": "execute_result",
          "data": {
            "text/plain": [
              "tuple"
            ]
          },
          "metadata": {},
          "execution_count": 13
        }
      ]
    },
    {
      "cell_type": "code",
      "source": [
        "'''Ques 12.Write a code to access the second-to-last element of the tuple ('red', 'green', 'blue', 'yellow').\n",
        "Ans.'''\n",
        "elements = ('red', 'green', 'blue', 'yellow')\n",
        "elements[1:]"
      ],
      "metadata": {
        "colab": {
          "base_uri": "https://localhost:8080/"
        },
        "id": "cQIqd3FOYMls",
        "outputId": "1633cf0b-6584-401f-887c-ea47d8b5797d"
      },
      "execution_count": 14,
      "outputs": [
        {
          "output_type": "execute_result",
          "data": {
            "text/plain": [
              "('green', 'blue', 'yellow')"
            ]
          },
          "metadata": {},
          "execution_count": 14
        }
      ]
    },
    {
      "cell_type": "code",
      "source": [
        "'''Ques 13.Write a code to find the minimum number in the tuple (10, 20, 5, 15).\n",
        "Ans.'''\n",
        "Tuple = (10, 20, 5, 15)\n",
        "min(Tuple)"
      ],
      "metadata": {
        "colab": {
          "base_uri": "https://localhost:8080/"
        },
        "id": "hmbTgD8xYVvB",
        "outputId": "a82abded-b868-49ef-fdb4-d49d46d31581"
      },
      "execution_count": 15,
      "outputs": [
        {
          "output_type": "execute_result",
          "data": {
            "text/plain": [
              "5"
            ]
          },
          "metadata": {},
          "execution_count": 15
        }
      ]
    },
    {
      "cell_type": "code",
      "source": [
        "'''Ques 14.Write a code to find the index of the element \"cat\" in the tuple ('dog', 'cat', 'rabbit').\n",
        "Ans.'''\n",
        "Tuple = ('dog', 'cat', 'rabbit')\n",
        "\n",
        "Tuple.index('cat')"
      ],
      "metadata": {
        "colab": {
          "base_uri": "https://localhost:8080/"
        },
        "id": "8TCfiJ3NYd7J",
        "outputId": "bae316a2-f4e7-470b-b804-21673be3b090"
      },
      "execution_count": 16,
      "outputs": [
        {
          "output_type": "execute_result",
          "data": {
            "text/plain": [
              "1"
            ]
          },
          "metadata": {},
          "execution_count": 16
        }
      ]
    },
    {
      "cell_type": "code",
      "source": [
        "'''Ques 15.Write a code to create a tuple containing three different fruits and check if \"kiwi\" is in it.\n",
        "Ans.'''\n",
        "fruits = (\"apple\", \"orange\", \"kiwi\")\n",
        "if \"kiwi\" in fruits:\n",
        "    print(\"yes, kiwi is present\")\n",
        "else:\n",
        "    print(\"No, kiwi is not present\")"
      ],
      "metadata": {
        "colab": {
          "base_uri": "https://localhost:8080/"
        },
        "id": "eZ27YlOBYnVF",
        "outputId": "a83673be-1da3-41f8-c3e2-d421438ebce7"
      },
      "execution_count": 17,
      "outputs": [
        {
          "output_type": "stream",
          "name": "stdout",
          "text": [
            "yes, kiwi is present\n"
          ]
        }
      ]
    },
    {
      "cell_type": "code",
      "source": [
        "\n",
        "'''Ques 16.Write a code to create a set with the elements 'a', 'b', 'c' and print it.\n",
        "Ans.'''\n",
        "elements = {'a', 'b', 'c'}\n",
        "print(elements)\n",
        "type(elements)"
      ],
      "metadata": {
        "colab": {
          "base_uri": "https://localhost:8080/"
        },
        "id": "FCnkez9MY7zo",
        "outputId": "b6a7b798-3e32-43f4-fe27-79a475fe3b60"
      },
      "execution_count": 18,
      "outputs": [
        {
          "output_type": "stream",
          "name": "stdout",
          "text": [
            "{'a', 'b', 'c'}\n"
          ]
        },
        {
          "output_type": "execute_result",
          "data": {
            "text/plain": [
              "set"
            ]
          },
          "metadata": {},
          "execution_count": 18
        }
      ]
    },
    {
      "cell_type": "code",
      "source": [
        "'''Ques 17.Write a code to clear all elements from the set {1, 2, 3, 4, 5}.\n",
        "Ans.'''\n",
        "elements = {1, 2, 3, 4, 5}\n",
        "elements.clear()\n",
        "print(elements)"
      ],
      "metadata": {
        "colab": {
          "base_uri": "https://localhost:8080/"
        },
        "id": "D46vwoGwZGYO",
        "outputId": "46890d64-f9fd-4872-d39f-d8c71ef86103"
      },
      "execution_count": 19,
      "outputs": [
        {
          "output_type": "stream",
          "name": "stdout",
          "text": [
            "set()\n"
          ]
        }
      ]
    },
    {
      "cell_type": "code",
      "source": [
        "'''Ques 18.Write a code to remove the element 4 from the set {1, 2, 3, 4}.\n",
        "Ans.'''\n",
        "\n",
        "elements = {1, 2, 3, 4}\n",
        "elements.remove(4)\n",
        "elements"
      ],
      "metadata": {
        "colab": {
          "base_uri": "https://localhost:8080/"
        },
        "id": "69UUG5KNZTlm",
        "outputId": "a24b71b3-37c3-47ca-8c68-f378ce1f5853"
      },
      "execution_count": 20,
      "outputs": [
        {
          "output_type": "execute_result",
          "data": {
            "text/plain": [
              "{1, 2, 3}"
            ]
          },
          "metadata": {},
          "execution_count": 20
        }
      ]
    },
    {
      "cell_type": "code",
      "source": [
        "'''Ques 19.Write a code to find the union of two sets {1, 2, 3} and {3, 4, 5}.\n",
        "Ans.'''\n",
        "\n",
        "s1 = {1, 2, 3}\n",
        "s2 = {3, 4, 5}\n",
        "s1.union(s2)"
      ],
      "metadata": {
        "colab": {
          "base_uri": "https://localhost:8080/"
        },
        "id": "VntfcCcRZdnZ",
        "outputId": "b576d330-f0ea-4be3-a7a0-a9b6e79f76df"
      },
      "execution_count": 21,
      "outputs": [
        {
          "output_type": "execute_result",
          "data": {
            "text/plain": [
              "{1, 2, 3, 4, 5}"
            ]
          },
          "metadata": {},
          "execution_count": 21
        }
      ]
    },
    {
      "cell_type": "code",
      "source": [
        "'''Ques 20.Write a code to find the intersection of two sets {1, 2, 3} and {2, 3, 4}.\n",
        "Ans.'''\n",
        "\n",
        "s1 = {1, 2, 3}\n",
        "s2 = {2, 3, 4}\n",
        "s1.intersection(s2)"
      ],
      "metadata": {
        "colab": {
          "base_uri": "https://localhost:8080/"
        },
        "id": "PBta6YZKZocX",
        "outputId": "155968d1-f4ba-43b8-9741-a2b12f0b4e02"
      },
      "execution_count": 22,
      "outputs": [
        {
          "output_type": "execute_result",
          "data": {
            "text/plain": [
              "{2, 3}"
            ]
          },
          "metadata": {},
          "execution_count": 22
        }
      ]
    },
    {
      "cell_type": "code",
      "source": [
        "'''Ques 21.Write a code to create a dictionary with the keys \"name\", \"age\", and \"city\", and print it.\n",
        "Ans.'''\n",
        "\n",
        "dict1 = {\"name\":\"lavkush\", \"age\":23, \"city\":\"prayagraj\"}\n",
        "dict1"
      ],
      "metadata": {
        "colab": {
          "base_uri": "https://localhost:8080/"
        },
        "id": "mmcoZ6uJZyi9",
        "outputId": "5dbb6d9c-22aa-4c0a-a9c3-4f45126cbc2d"
      },
      "execution_count": 23,
      "outputs": [
        {
          "output_type": "execute_result",
          "data": {
            "text/plain": [
              "{'name': 'lavkush', 'age': 23, 'city': 'prayagraj'}"
            ]
          },
          "metadata": {},
          "execution_count": 23
        }
      ]
    },
    {
      "cell_type": "code",
      "source": [
        "'''Ques 22.Write a code to add a new key-value pair \"country\": \"USA\" to the dictionary {'name': 'John', 'age': 25}.\n",
        "Ans.'''\n",
        "\n",
        "dictionary = {'name':'John', 'age':25}\n",
        "dictionary[\"country\"] = \"USA\"\n",
        "dictionary"
      ],
      "metadata": {
        "colab": {
          "base_uri": "https://localhost:8080/"
        },
        "id": "58PNsPkoZ-eb",
        "outputId": "68b4af61-d597-483b-9403-4099392c8e97"
      },
      "execution_count": 24,
      "outputs": [
        {
          "output_type": "execute_result",
          "data": {
            "text/plain": [
              "{'name': 'John', 'age': 25, 'country': 'USA'}"
            ]
          },
          "metadata": {},
          "execution_count": 24
        }
      ]
    },
    {
      "cell_type": "code",
      "source": [
        "'''Ques 23.Write a code to access the value associated with the key \"name\" in the dictionary {'name': 'Alice', 'age': 30}.\n",
        "Ans.'''\n",
        "\n",
        "dictionary = {'name': 'Alice', 'age': 30}\n",
        "dict2 = dictionary[\"name\"]\n",
        "dict2"
      ],
      "metadata": {
        "colab": {
          "base_uri": "https://localhost:8080/",
          "height": 36
        },
        "id": "oc6Uzb8maIke",
        "outputId": "81ff8f02-377d-402c-80db-e886df18f471"
      },
      "execution_count": 25,
      "outputs": [
        {
          "output_type": "execute_result",
          "data": {
            "text/plain": [
              "'Alice'"
            ],
            "application/vnd.google.colaboratory.intrinsic+json": {
              "type": "string"
            }
          },
          "metadata": {},
          "execution_count": 25
        }
      ]
    },
    {
      "cell_type": "code",
      "source": [
        "'''Ques 24.Write a code to remove the key \"age\" from the dictionary {'name': 'Bob', 'age': 22, 'city': 'New York'}.\n",
        "Ans.'''\n",
        "\n",
        "dictionary = {'name': 'Bob', 'age': 22, 'city': 'New York'}\n",
        "dictionary.pop(\"age\")\n",
        "dictionary"
      ],
      "metadata": {
        "colab": {
          "base_uri": "https://localhost:8080/"
        },
        "id": "9Kszfh5haRWb",
        "outputId": "de57752f-6b3f-43c5-db57-73aff038f39f"
      },
      "execution_count": 26,
      "outputs": [
        {
          "output_type": "execute_result",
          "data": {
            "text/plain": [
              "{'name': 'Bob', 'city': 'New York'}"
            ]
          },
          "metadata": {},
          "execution_count": 26
        }
      ]
    },
    {
      "cell_type": "code",
      "source": [
        "'''Ques 25.Write a code to check if the key \"city\" exists in the dictionary {'name': 'Alice', 'city': 'Paris'}.\n",
        "Ans.'''\n",
        "\n",
        "dictionary = {'name': 'Alice', 'city': 'Paris'}\n",
        "if \"city\" in dictionary:\n",
        "    print(True)\n",
        "else:\n",
        "    print(False)"
      ],
      "metadata": {
        "colab": {
          "base_uri": "https://localhost:8080/"
        },
        "id": "JTkRne8oabd1",
        "outputId": "c0a4523f-f2e3-40ea-ec7c-f400e72563e2"
      },
      "execution_count": 27,
      "outputs": [
        {
          "output_type": "stream",
          "name": "stdout",
          "text": [
            "True\n"
          ]
        }
      ]
    },
    {
      "cell_type": "code",
      "source": [
        "'''Ques 26.Write a code to create a list, a tuple, and a dictionary, and print them all.\n",
        "Ans.'''\n",
        "\n",
        "list1 = [\"a\", 1, 3.25]\n",
        "dictionary = {1:1, 6:36}\n",
        "tuples = (1, 2, 3, 5)\n",
        "print(\"list:\",list1)\n",
        "print(\"dictionary:\",dictionary)\n",
        "print(\"tuple:\",tuples)"
      ],
      "metadata": {
        "colab": {
          "base_uri": "https://localhost:8080/"
        },
        "id": "O1rNI7kYarjY",
        "outputId": "a1b403ea-8bd8-49ec-c82f-8eeab37d879e"
      },
      "execution_count": 28,
      "outputs": [
        {
          "output_type": "stream",
          "name": "stdout",
          "text": [
            "list: ['a', 1, 3.25]\n",
            "dictionary: {1: 1, 6: 36}\n",
            "tuple: (1, 2, 3, 5)\n"
          ]
        }
      ]
    },
    {
      "cell_type": "code",
      "source": [
        "'''Ques 27.Write a code to create a list of 5 random numbers between 1 and 100, sort it in ascending order, and print the\n",
        "result.\n",
        "Ans.'''\n",
        "\n",
        "import random\n",
        "numbers = random.sample(range(1,101),5)\n",
        "numbers.sort()\n",
        "print(numbers)"
      ],
      "metadata": {
        "colab": {
          "base_uri": "https://localhost:8080/"
        },
        "id": "YTqA4_xba7TP",
        "outputId": "b186c344-45d9-415b-e7df-886a6a73efad"
      },
      "execution_count": 29,
      "outputs": [
        {
          "output_type": "stream",
          "name": "stdout",
          "text": [
            "[2, 15, 47, 59, 99]\n"
          ]
        }
      ]
    },
    {
      "cell_type": "code",
      "source": [
        "'''Ques 28.Write a code to create a list with strings and print the element at the third index.\n",
        "Ans.'''\n",
        "\n",
        "lists = [\"aman\", \"rohan\", \"manoj\", \"raju\", \"meenal\"]\n",
        "lists[3]"
      ],
      "metadata": {
        "colab": {
          "base_uri": "https://localhost:8080/",
          "height": 36
        },
        "id": "bZeqbWGObJzG",
        "outputId": "773ceec4-269a-4747-dc8f-d35f58ae7ade"
      },
      "execution_count": 30,
      "outputs": [
        {
          "output_type": "execute_result",
          "data": {
            "text/plain": [
              "'raju'"
            ],
            "application/vnd.google.colaboratory.intrinsic+json": {
              "type": "string"
            }
          },
          "metadata": {},
          "execution_count": 30
        }
      ]
    },
    {
      "cell_type": "code",
      "source": [
        "'''Ques 29.Write a code to combine two dictionaries into one and print the result.\n",
        "Ans.'''\n",
        "\n",
        "dict1 = {\"aman\":86, \"rohan\":98, \"manoj\":66, }\n",
        "dict2 = {\"raajma\":86, \"poha\":98, \"jalebi\":66, }\n",
        "dict3 =dict1 | dict2\n",
        "dict3"
      ],
      "metadata": {
        "colab": {
          "base_uri": "https://localhost:8080/"
        },
        "id": "TeY7OV_qbRo4",
        "outputId": "163498cd-49f6-4932-b166-99c15dc732bd"
      },
      "execution_count": 31,
      "outputs": [
        {
          "output_type": "execute_result",
          "data": {
            "text/plain": [
              "{'aman': 86, 'rohan': 98, 'manoj': 66, 'raajma': 86, 'poha': 98, 'jalebi': 66}"
            ]
          },
          "metadata": {},
          "execution_count": 31
        }
      ]
    },
    {
      "cell_type": "code",
      "source": [
        "'''Ques 30.Write a code to convert a list of strings into a set.\n",
        "Ans.'''\n",
        "\n",
        "lists = [\"aman\", \"rohan\", \"manoj\", \"raju\", \"meenal\"]\n",
        "new_list = set(lists)\n",
        "new_list"
      ],
      "metadata": {
        "id": "-Hlk9IMWbhYu"
      },
      "execution_count": null,
      "outputs": []
    }
  ]
}